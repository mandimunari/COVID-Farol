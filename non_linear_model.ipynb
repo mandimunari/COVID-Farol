{
 "cells": [
  {
   "cell_type": "code",
   "execution_count": 49,
   "id": "needed-carry",
   "metadata": {},
   "outputs": [],
   "source": [
    "# library import\n",
    "import rpy2\n",
    "import rpy2.robjects as robjects\n",
    "import pandas as pd\n",
    "import yaml\n",
    "import requests\n",
    "import parameters"
   ]
  },
  {
   "cell_type": "code",
   "execution_count": 77,
   "id": "drawn-radius",
   "metadata": {},
   "outputs": [
    {
     "ename": "PackageNotInstalledError",
     "evalue": "The R package \"nls\" is not installed.",
     "output_type": "error",
     "traceback": [
      "\u001b[0;31m---------------------------------------------------------------------------\u001b[0m",
      "\u001b[0;31mPackageNotInstalledError\u001b[0m                  Traceback (most recent call last)",
      "\u001b[0;32m<ipython-input-77-05671eac95b0>\u001b[0m in \u001b[0;36m<module>\u001b[0;34m\u001b[0m\n\u001b[1;32m     10\u001b[0m \u001b[0mr_base\u001b[0m \u001b[0;34m=\u001b[0m \u001b[0mimportr\u001b[0m\u001b[0;34m(\u001b[0m\u001b[0;34m'base'\u001b[0m\u001b[0;34m)\u001b[0m\u001b[0;34m\u001b[0m\u001b[0;34m\u001b[0m\u001b[0m\n\u001b[1;32m     11\u001b[0m \u001b[0mr_utils\u001b[0m \u001b[0;34m=\u001b[0m \u001b[0mimportr\u001b[0m\u001b[0;34m(\u001b[0m\u001b[0;34m'utils'\u001b[0m\u001b[0;34m)\u001b[0m\u001b[0;34m\u001b[0m\u001b[0;34m\u001b[0m\u001b[0m\n\u001b[0;32m---> 12\u001b[0;31m \u001b[0mr_nlme\u001b[0m \u001b[0;34m=\u001b[0m \u001b[0mimportr\u001b[0m\u001b[0;34m(\u001b[0m\u001b[0;34m'nls'\u001b[0m\u001b[0;34m)\u001b[0m\u001b[0;34m\u001b[0m\u001b[0;34m\u001b[0m\u001b[0m\n\u001b[0m",
      "\u001b[0;32m~/.local/lib/python3.6/site-packages/rpy2/robjects/packages.py\u001b[0m in \u001b[0;36mimportr\u001b[0;34m(name, lib_loc, robject_translations, signature_translation, suppress_messages, on_conflict, symbol_r2python, symbol_resolve, data)\u001b[0m\n\u001b[1;32m    470\u001b[0m     \u001b[0;32mif\u001b[0m \u001b[0;32mnot\u001b[0m \u001b[0misinstalled\u001b[0m\u001b[0;34m(\u001b[0m\u001b[0mname\u001b[0m\u001b[0;34m,\u001b[0m \u001b[0mlib_loc\u001b[0m\u001b[0;34m=\u001b[0m\u001b[0mlib_loc\u001b[0m\u001b[0;34m)\u001b[0m\u001b[0;34m:\u001b[0m\u001b[0;34m\u001b[0m\u001b[0;34m\u001b[0m\u001b[0m\n\u001b[1;32m    471\u001b[0m         raise PackageNotInstalledError(\n\u001b[0;32m--> 472\u001b[0;31m             \u001b[0;34m'The R package \"%s\" is not installed.'\u001b[0m \u001b[0;34m%\u001b[0m \u001b[0mname\u001b[0m\u001b[0;34m\u001b[0m\u001b[0;34m\u001b[0m\u001b[0m\n\u001b[0m\u001b[1;32m    473\u001b[0m         )\n\u001b[1;32m    474\u001b[0m \u001b[0;34m\u001b[0m\u001b[0m\n",
      "\u001b[0;31mPackageNotInstalledError\u001b[0m: The R package \"nls\" is not installed."
     ]
    }
   ],
   "source": [
    "# import R packages into python\n",
    "\"\"\"\n",
    "Load the R packages that will be used, such as: \n",
    "        - base\n",
    "        - utils\n",
    "        - nls.multstart\n",
    "\"\"\"\n",
    "from rpy2.robjects.packages import importr\n",
    "\n",
    "r_base = importr('base') \n",
    "r_utils = importr('utils')\n",
    "r_nlme = importr('nls')"
   ]
  },
  {
   "cell_type": "code",
   "execution_count": null,
   "id": "australian-motor",
   "metadata": {},
   "outputs": [],
   "source": [
    "# import parameters data\n",
    "\"\"\"\n",
    "Import the parameters of hospitalization and mortality by state using data from the CoronaCidades\n",
    "\"\"\"\n",
    "\n",
    "data_parameters = pd.read_csv(\"http://datasource.coronacidades.org/br/states/parameters\")\n",
    "data_parameters"
   ]
  },
  {
   "cell_type": "code",
   "execution_count": null,
   "id": "piano-howard",
   "metadata": {},
   "outputs": [],
   "source": [
    "# import farolcovid data\n",
    "\"\"\"\n",
    "Imports FarolCovid data related to:\n",
    "- Updated cases and deaths\n",
    "- Notification rate and most recent estimated active cases\n",
    "- Most recent contagion rate (Rt)\n",
    "- Latest number of sick and ICU beds from CNES\n",
    "\"\"\"\n",
    "\n",
    "data_farol = pd.read_csv(\"http://datasource.coronacidades.org/br/states/farolcovid/main\").set_index(\"state_num_id\")\n",
    "df_farol = data_farol[[\"state_id\", \"last_updated_cases\", \"confirmed_cases\", \"deaths\", \n",
    "          \"notification_rate\", \"active_cases\", \"rt_most_likely\", \n",
    "          \"number_beds\", \"number_icu_beds\", \"last_updated_number_beds\"]]\n",
    "df_farol"
   ]
  },
  {
   "cell_type": "code",
   "execution_count": null,
   "id": "applicable-housing",
   "metadata": {},
   "outputs": [],
   "source": [
    "# parameters config import\n",
    "\"\"\"\n",
    "Import the disease progression times fixed parameters from the literature\n",
    "\"\"\"\n",
    "url = \"https://raw.githubusercontent.com/ImpulsoGov/farolcovid/stable/src/configs/config.yaml\"\n",
    "config = yaml.load(requests.get(url).text, Loader=yaml.FullLoader)\n",
    "config = config[\"br\"][\"seir_parameters\"]\n",
    "config\n"
   ]
  },
  {
   "cell_type": "code",
   "execution_count": 78,
   "id": "downtown-hierarchy",
   "metadata": {},
   "outputs": [],
   "source": [
    "# data selection for the model and parametrs calculation\n",
    "\"\"\"\n",
    "The parametrs was calculed using the original seir.py scrip\n",
    "\"\"\"\n",
    "\n",
    "frac_severe_to_critical = data_parameters[\"i3_percentage\"] / (\n",
    "        data_parameters[\"i2_percentage\"] + data_parameters[\"i3_percentage\"])\n",
    "    \n",
    "p1 = 1 - (data_parameters[\"i1_percentage\"]) / (config[\"mild_duration\"])\n",
    "\n",
    "p2 = frac_severe_to_critical / config[\"severe_duration\"]\n",
    "\n",
    "x = (\n",
    "    0.9 \n",
    "    * (1 / config[\"mild_duration\"]) \n",
    "    * (config[\"severe_duration\"]) \n",
    "    * (1 / config[\"critical_duration\"])\n",
    "    )\n",
    "\n",
    "y = (\n",
    "        p1 * (1 / config[\"critical_duration\"])\n",
    "        + p1 * p2\n",
    "    )\n",
    "\n",
    "I1 = df_farol[\"confirmed_cases\"] * data_parameters[\"i1_percentage\"]\n",
    "I2 = df_farol[\"confirmed_cases\"] * data_parameters[\"i2_percentage\"]\n",
    "I3 = df_farol[\"confirmed_cases\"] * data_parameters[\"i3_percentage\"]\n",
    "\n",
    "beta1 = (\n",
    "    0.9 \n",
    "    * (1 / config[\"mild_duration\"]) \n",
    "    * (config[\"severe_duration\"]) * (1 / config[\"critical_duration\"]))\n",
    "\n",
    "\n",
    "beta3 = 0.1 * (x / y) * (config[\"severe_duration\"]) / (1 / config[\"critical_duration\"])\n",
    "\n",
    "beta2 = beta3"
   ]
  },
  {
   "cell_type": "code",
   "execution_count": 79,
   "id": "numerical-victor",
   "metadata": {},
   "outputs": [
    {
     "ename": "SyntaxError",
     "evalue": "invalid syntax (<ipython-input-79-8c1b9f586ca7>, line 14)",
     "output_type": "error",
     "traceback": [
      "\u001b[0;36m  File \u001b[0;32m\"<ipython-input-79-8c1b9f586ca7>\"\u001b[0;36m, line \u001b[0;32m14\u001b[0m\n\u001b[0;31m    nlr_model = robjects.r(nls.multstart::nls_multstart(I1~beta1*(I2^beta2)*(I3^beta3)))\u001b[0m\n\u001b[0m                                        ^\u001b[0m\n\u001b[0;31mSyntaxError\u001b[0m\u001b[0;31m:\u001b[0m invalid syntax\n"
     ]
    }
   ],
   "source": [
    "# non-linear regression model for I1, I2 e I3 population initial states\n",
    "\"\"\"\n",
    "The non-linear regression model will use the parameters:\n",
    "\n",
    "       Population parameters:\n",
    "              - I1: infected mild\n",
    "              - I2: infected severe\n",
    "              - I3: infected critical\n",
    "\n",
    "The Schumacher and Hal model is through the nls function from the nlme R package\n",
    "\n",
    "The model formula is I1 ~ beta1 * (I2^beta2) * (I3^beta3)\n",
    "\"\"\"\n",
    "nlr_model = robjects.r(nls.multstart::nls_multstart(I1~beta1*(I2^beta2)*(I3^beta3)))\n",
    "\n"
   ]
  },
  {
   "cell_type": "code",
   "execution_count": 80,
   "id": "respective-shade",
   "metadata": {},
   "outputs": [
    {
     "ename": "NameError",
     "evalue": "name 'sumary' is not defined",
     "output_type": "error",
     "traceback": [
      "\u001b[0;31m---------------------------------------------------------------------------\u001b[0m",
      "\u001b[0;31mNameError\u001b[0m                                 Traceback (most recent call last)",
      "\u001b[0;32m<ipython-input-80-9da551805cad>\u001b[0m in \u001b[0;36m<module>\u001b[0;34m\u001b[0m\n\u001b[1;32m      1\u001b[0m \u001b[0;31m# model values\u001b[0m\u001b[0;34m\u001b[0m\u001b[0;34m\u001b[0m\u001b[0;34m\u001b[0m\u001b[0m\n\u001b[1;32m      2\u001b[0m \u001b[0;34m\u001b[0m\u001b[0m\n\u001b[0;32m----> 3\u001b[0;31m \u001b[0msummary\u001b[0m \u001b[0;34m=\u001b[0m \u001b[0mrobjects\u001b[0m\u001b[0;34m.\u001b[0m\u001b[0mr\u001b[0m\u001b[0;34m(\u001b[0m\u001b[0msumary\u001b[0m\u001b[0;34m(\u001b[0m\u001b[0mnlr_model\u001b[0m\u001b[0;34m)\u001b[0m\u001b[0;34m)\u001b[0m\u001b[0;34m\u001b[0m\u001b[0;34m\u001b[0m\u001b[0m\n\u001b[0m",
      "\u001b[0;31mNameError\u001b[0m: name 'sumary' is not defined"
     ]
    }
   ],
   "source": [
    "# model values\n",
    "\n",
    "summary = robjects.r(sumary(nlr_model))"
   ]
  },
  {
   "cell_type": "code",
   "execution_count": null,
   "id": "chemical-singles",
   "metadata": {},
   "outputs": [],
   "source": []
  }
 ],
 "metadata": {
  "kernelspec": {
   "display_name": "Python 3",
   "language": "python",
   "name": "python3"
  },
  "language_info": {
   "codemirror_mode": {
    "name": "ipython",
    "version": 3
   },
   "file_extension": ".py",
   "mimetype": "text/x-python",
   "name": "python",
   "nbconvert_exporter": "python",
   "pygments_lexer": "ipython3",
   "version": "3.6.9"
  }
 },
 "nbformat": 4,
 "nbformat_minor": 5
}
